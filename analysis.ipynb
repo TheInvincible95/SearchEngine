{
 "cells": [
  {
   "cell_type": "code",
   "execution_count": null,
   "metadata": {},
   "outputs": [],
   "source": [
    "%matplotlib inline\n",
    "\n",
    "import corpusToDict as ctd\n",
    "\n",
    "from nltk.tokenize import word_tokenize\n",
    "from nltk import ngrams, FreqDist\n",
    "from nltk.corpus import stopwords\n",
    "\n",
    "import matplotlib.pyplot as plt\n",
    "from wordcloud import WordCloud\n",
    "\n",
    "import numpy as np"
   ]
  },
  {
   "cell_type": "markdown",
   "metadata": {},
   "source": [
    "read the dataset here:"
   ]
  },
  {
   "cell_type": "code",
   "execution_count": null,
   "metadata": {},
   "outputs": [],
   "source": [
    "# path to the corpus:\n",
    "filePath = \"./Corpus.csv\"\n",
    "\n",
    "corpus = ctd.getCorpus(filePath)"
   ]
  },
  {
   "cell_type": "code",
   "execution_count": null,
   "metadata": {},
   "outputs": [],
   "source": [
    "# find the vocabulary of the corpus, and a large combined string of all the text:\n",
    "vocabulary = set()\n",
    "data = \"\"\n",
    "\n",
    "# stores the corpus, but with each document tokenised \n",
    "tokenisedDocuments = []\n",
    "\n",
    "for i in range(1, len(corpus)):\n",
    "    text = corpus[i][0]\n",
    "    data += text\n",
    "    tokens = word_tokenize(text)\n",
    "    tokenisedDocuments.append(tokens)\n",
    "    \n",
    "    vocabulary.update(tokens)\n",
    "    "
   ]
  },
  {
   "cell_type": "markdown",
   "metadata": {},
   "source": [
    "Perform some basic analysis on the vocablualry now\n"
   ]
  },
  {
   "cell_type": "code",
   "execution_count": null,
   "metadata": {},
   "outputs": [],
   "source": [
    "print(list(vocabulary)[:50])\n"
   ]
  },
  {
   "cell_type": "code",
   "execution_count": null,
   "metadata": {},
   "outputs": [],
   "source": [
    "print(len(vocabulary))"
   ]
  },
  {
   "cell_type": "markdown",
   "metadata": {},
   "source": [
    "### Plot and print the 5 most frequent N-gram sequences of len 2, 3, 4, 5"
   ]
  },
  {
   "cell_type": "code",
   "execution_count": null,
   "metadata": {},
   "outputs": [],
   "source": [
    "allCounts = {}\n",
    "\n",
    "for size in range(2, 6):\n",
    "    allCounts[size] = FreqDist(ngrams(data, size))\n",
    "    "
   ]
  },
  {
   "cell_type": "markdown",
   "metadata": {},
   "source": [
    "PLotting for ngrmas of desired size "
   ]
  },
  {
   "cell_type": "code",
   "execution_count": null,
   "metadata": {},
   "outputs": [],
   "source": [
    "for size in [2, 3, 4, 5]:\n",
    "    grams = allCounts[size].most_common(5)\n",
    "    sequences = []\n",
    "    values = []\n",
    "\n",
    "    # getting the n-gram values and their respective frequencies in their respective lists to plot them:\n",
    "    for pairs in grams:\n",
    "        \n",
    "        string = \"\"\n",
    "        for chars in pairs[0]:\n",
    "            if chars == \" \":\n",
    "                string+= \"_\"\n",
    "            else:\n",
    "                string += chars\n",
    "        sequences.append(string)\n",
    "        \n",
    "        values.append(pairs[1])\n",
    "\n",
    "    fig = plt.figure(figsize=(10, 5))\n",
    "    \n",
    "    # everyone will thank me for this\n",
    "    plt.style.use('dark_background')\n",
    "    \n",
    "    # creating a bar plot\n",
    "    plt.bar(sequences, values, color=\"aqua\", width=0.4)\n",
    "    \n",
    "\n",
    "\n",
    "    plt.xlabel(\"Ngram Sequence [Spaces replaced with '_']\")\n",
    "    plt.ylabel(\"Frequency in Corpus\")\n",
    "    plt.title(f\"Top 5 {size}-grams in the Corpus\")\n",
    "\n",
    "    plt.show()"
   ]
  },
  {
   "cell_type": "markdown",
   "metadata": {},
   "source": [
    "#### Creating Wordclouds for each category: "
   ]
  },
  {
   "cell_type": "code",
   "execution_count": null,
   "metadata": {},
   "outputs": [],
   "source": [
    "\n",
    "# generate word clouds for each category in the corpus\n",
    "\n",
    "# number of categories in the corpus\n",
    "nCategories = 5\n",
    "\n",
    "# store a large combined string of all text per category\n",
    "textOfCategory = [\"\"] * nCategories\n",
    "\n",
    "\n",
    "for i in range(1, len(corpus)):\n",
    "    \n",
    "    text = corpus[i][0]\n",
    "    category = int(corpus[i][1])\n",
    "\n",
    "    textOfCategory[category] += text\n",
    "    "
   ]
  },
  {
   "cell_type": "code",
   "execution_count": null,
   "metadata": {},
   "outputs": [],
   "source": [
    "\n",
    "stop_words = set(stopwords.words(\"english\"))\n",
    "\n",
    "wc = WordCloud(stopwords=stop_words)\n",
    "\n",
    "labels = {  0: \"Politics\",\n",
    "            1: \"Sport\",\n",
    "            2: \"Technology\",\n",
    "            3: \"Entertainment\",\n",
    "            4: \"Business\"}\n",
    "\n",
    "for i, text in enumerate(textOfCategory):\n",
    "    wc.generate(text)\n",
    "    plt.imshow(wc)\n",
    "    plt.axis(\"off\")\n",
    "    plt.title(f\"Category: {labels[i]}\")\n",
    "    plt.show()\n",
    "    "
   ]
  },
  {
   "cell_type": "markdown",
   "metadata": {},
   "source": [
    "#### Counting top N words that occur in the most documents:"
   ]
  },
  {
   "cell_type": "code",
   "execution_count": null,
   "metadata": {},
   "outputs": [],
   "source": [
    "\n",
    "# finding all words in vocabulary, excluding stop words\n",
    "words = [word for word in vocabulary if word not in stop_words]\n",
    "\n",
    "# dictionary to keep track of number of documents each word is in\n",
    "wordCount = {}\n",
    "\n",
    "# finding the total number of documents each word is in\n",
    "#todo maybe make it more efficient at some point (it takes ~ 2min to execute on my)\n",
    "for word in words:\n",
    "    count = 0\n",
    "    \n",
    "    for i in range(1, len(corpus)):\n",
    "        text = corpus[i][0]\n",
    "        if word in text:\n",
    "            count += 1\n",
    "    \n",
    "    wordCount[word] = count\n",
    "\n",
    "\n",
    "    "
   ]
  },
  {
   "cell_type": "markdown",
   "metadata": {},
   "source": [
    "Finding for all words longer than 3 characters "
   ]
  },
  {
   "cell_type": "code",
   "execution_count": null,
   "metadata": {},
   "outputs": [],
   "source": [
    "wordCount = dict(sorted(wordCount.items(), key=lambda item: item[1], reverse=True))\n",
    "# wordCount\n",
    "wordCountList = [(word, wordCount[word]) for word in wordCount if (word in vocabulary and word not in stop_words and len(word) > 3)]"
   ]
  },
  {
   "cell_type": "markdown",
   "metadata": {},
   "source": [
    "PLotting top 30 words:"
   ]
  },
  {
   "cell_type": "code",
   "execution_count": null,
   "metadata": {},
   "outputs": [],
   "source": [
    "topWords = []\n",
    "topWordCounts = []\n",
    "\n",
    "counter = 0\n",
    "for words, counts in wordCountList:\n",
    "    topWords.append(words)\n",
    "    topWordCounts.append(counts)\n",
    "    \n",
    "    counter += 1\n",
    "    if counter >= 30:\n",
    "        break\n",
    "\n",
    "# plot data now\n",
    "fig = plt.figure(figsize=(20, 5))\n",
    "\n",
    "# everyone will thank me for this\n",
    "plt.style.use('dark_background')\n",
    "\n",
    "# creating a bar plot\n",
    "plt.bar(topWords, topWordCounts, color=\"aqua\", width=0.2)\n",
    "\n",
    "\n",
    "\n",
    "plt.xlabel(\"Words\")\n",
    "plt.ylabel(\"Number of documnents occurs in\")\n",
    "plt.title(f\"Top words that occur in the most Documents\")\n",
    "\n",
    "plt.show()\n",
    "\n"
   ]
  }
 ],
 "metadata": {
  "kernelspec": {
   "display_name": "myEnv",
   "language": "python",
   "name": "python3"
  },
  "language_info": {
   "codemirror_mode": {
    "name": "ipython",
    "version": 3
   },
   "file_extension": ".py",
   "mimetype": "text/x-python",
   "name": "python",
   "nbconvert_exporter": "python",
   "pygments_lexer": "ipython3",
   "version": "3.10.7"
  }
 },
 "nbformat": 4,
 "nbformat_minor": 2
}
